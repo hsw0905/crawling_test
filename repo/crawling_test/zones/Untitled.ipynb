{
 "cells": [
  {
   "cell_type": "code",
   "execution_count": 18,
   "metadata": {},
   "outputs": [],
   "source": [
    "import requests\n",
    "from bs4 import BeautifulSoup\n",
    "from selenium import webdriver"
   ]
  },
  {
   "cell_type": "code",
   "execution_count": 70,
   "metadata": {},
   "outputs": [
    {
     "name": "stdout",
     "output_type": "stream",
     "text": [
      "https://blog.socar.kr/208?category=470153\n",
      "https://blog.socar.kr/206?category=470153\n",
      "https://blog.socar.kr/205?category=470153\n",
      "https://blog.socar.kr/202?category=470153\n",
      "https://blog.socar.kr/201?category=470153\n",
      "https://blog.socar.kr/200?category=470153\n",
      "https://blog.socar.kr/201?category=470153\n"
     ]
    },
    {
     "ename": "IndexError",
     "evalue": "list index out of range",
     "output_type": "error",
     "traceback": [
      "\u001b[0;31m---------------------------------------------------------------------------\u001b[0m",
      "\u001b[0;31mIndexError\u001b[0m                                Traceback (most recent call last)",
      "\u001b[0;32m<ipython-input-70-34eb12e33677>\u001b[0m in \u001b[0;36m<module>\u001b[0;34m\u001b[0m\n\u001b[1;32m     32\u001b[0m      line-height: 16px; color: rgb(93,93,93);'})\n\u001b[1;32m     33\u001b[0m \u001b[0;34m\u001b[0m\u001b[0m\n\u001b[0;32m---> 34\u001b[0;31m     \u001b[0mzone_address\u001b[0m \u001b[0;34m=\u001b[0m \u001b[0mzone_informations\u001b[0m\u001b[0;34m[\u001b[0m\u001b[0;36m0\u001b[0m\u001b[0;34m]\u001b[0m\u001b[0;34m.\u001b[0m\u001b[0mtext\u001b[0m\u001b[0;34m\u001b[0m\u001b[0;34m\u001b[0m\u001b[0m\n\u001b[0m\u001b[1;32m     35\u001b[0m     \u001b[0mzone_detail\u001b[0m \u001b[0;34m=\u001b[0m \u001b[0mzone_informations\u001b[0m\u001b[0;34m[\u001b[0m\u001b[0;36m1\u001b[0m\u001b[0;34m]\u001b[0m\u001b[0;34m.\u001b[0m\u001b[0mtext\u001b[0m\u001b[0;34m\u001b[0m\u001b[0;34m\u001b[0m\u001b[0m\n\u001b[1;32m     36\u001b[0m     \u001b[0mzone_name\u001b[0m \u001b[0;34m=\u001b[0m \u001b[0mzone_informations\u001b[0m\u001b[0;34m[\u001b[0m\u001b[0;36m2\u001b[0m\u001b[0;34m]\u001b[0m\u001b[0;34m.\u001b[0m\u001b[0mtext\u001b[0m\u001b[0;34m\u001b[0m\u001b[0;34m\u001b[0m\u001b[0m\n",
      "\u001b[0;31mIndexError\u001b[0m: list index out of range"
     ]
    }
   ],
   "source": [
    "\n",
    "driver = webdriver.Chrome('/Users/seonwoong-hwang/Downloads/chromedriver')\n",
    "driver.implicitly_wait(5)\n",
    "    \n",
    "#쏘카존 안내 - 서울 탭 1페이지\n",
    "driver.get(f'https://blog.socar.kr/category/쏘카존 안내/서울?page=242')\n",
    "\n",
    "#페이지 당 쏘카존 상세 페이지 URL 추출\n",
    "html = requests.get(f'https://blog.socar.kr/category/쏘카존 안내/서울?page=242', headers=headers).text\n",
    "soup = BeautifulSoup(html, 'html.parser')\n",
    "detail_pages = soup.find_all('a', {'class' : 'ellipsis'})\n",
    "for i in detail_pages:\n",
    "    target_base_url = 'https://blog.socar.kr'\n",
    "    detail_page_url = target_base_url + i['href']\n",
    "    \n",
    "    print(detail_page_url)\n",
    "    \n",
    "#페이지당 보여지는 쏘카존의 url \n",
    "for val in driver.find_elements_by_xpath('/html/body/div[4]/div[2]/ul/li[5]/div/div[2]/h4/a'):\n",
    "    url = val.get_attribute('href')\n",
    "    print(url)\n",
    "    \n",
    "    headers = {\n",
    "                'User-Agent': 'Mozilla/5.0 (Macintosh; Intel Mac OS X 10_15_5) AppleWebKit/537.36 (KHTML, like Gecko)'\n",
    "                              'Chrome/83.0.4103.106 Safari/537.36 '\n",
    "            }\n",
    "\n",
    "    html = requests.get(url, headers=headers).text\n",
    "    soup = BeautifulSoup(html, 'html.parser')\n",
    "   \n",
    "#     zone_informations = soup.find_all('span', {'style' : 'font-size: 16px; letter-spacing: -0.5px;'})\n",
    "    zone_informations = soup.find_all('span', {'style' : 'font-family: \"맑은 고딕\", sans-serif; font-size: llpt;\\\n",
    "     line-height: 16px; color: rgb(93,93,93);'})\n",
    "    \n",
    "    zone_address = zone_informations[0].text\n",
    "    zone_detail = zone_informations[1].text\n",
    "    zone_name = zone_informations[2].text\n",
    "\n",
    "    print(zone_address)\n",
    "    print(zone_detail)\n",
    "    print(zone_name)\n",
    "    "
   ]
  },
  {
   "cell_type": "code",
   "execution_count": 34,
   "metadata": {},
   "outputs": [
    {
     "ename": "AttributeError",
     "evalue": "'list' object has no attribute 'get_attribute'",
     "output_type": "error",
     "traceback": [
      "\u001b[0;31m---------------------------------------------------------------------------\u001b[0m",
      "\u001b[0;31mAttributeError\u001b[0m                            Traceback (most recent call last)",
      "\u001b[0;32m<ipython-input-34-83697aa3f694>\u001b[0m in \u001b[0;36m<module>\u001b[0;34m\u001b[0m\n\u001b[0;32m----> 1\u001b[0;31m \u001b[0mval\u001b[0m\u001b[0;34m.\u001b[0m\u001b[0mget_attribute\u001b[0m\u001b[0;34m(\u001b[0m\u001b[0;34m'href'\u001b[0m\u001b[0;34m)\u001b[0m\u001b[0;34m\u001b[0m\u001b[0;34m\u001b[0m\u001b[0m\n\u001b[0m",
      "\u001b[0;31mAttributeError\u001b[0m: 'list' object has no attribute 'get_attribute'"
     ]
    }
   ],
   "source": []
  },
  {
   "cell_type": "code",
   "execution_count": null,
   "metadata": {},
   "outputs": [],
   "source": []
  }
 ],
 "metadata": {
  "kernelspec": {
   "display_name": "Python 3",
   "language": "python",
   "name": "python3"
  },
  "language_info": {
   "codemirror_mode": {
    "name": "ipython",
    "version": 3
   },
   "file_extension": ".py",
   "mimetype": "text/x-python",
   "name": "python",
   "nbconvert_exporter": "python",
   "pygments_lexer": "ipython3",
   "version": "3.7.5"
  }
 },
 "nbformat": 4,
 "nbformat_minor": 4
}
